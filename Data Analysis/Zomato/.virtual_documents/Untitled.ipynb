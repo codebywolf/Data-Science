import numpy as np
import pandas as pd
import seaborn as sns
import matplotlib.pyplot as plt


zomato_data = pd.read_csv("Zomato-data.csv")
df = zomato_data.copy()
df.head()


df = df.drop_duplicates()


df['rate'] = df['rate'].str.split('/').str[0].astype(float)


df.info()


# Types of restaurant
sns.countplot(x = df['listed_in(type)'])
plt.xlabel("Types of restaurant")





# Count of votes
grouped_data = df.groupby('listed_in(type)')['votes'].sum()
result = pd.DataFrame({'votes': grouped_data})
plt.plot(result, marker='o')
plt.ylabel("Vots count")
plt.xlabel("Types of restaurant")
plt.title("Count of vots")





# Identify the Most Voted Restaurant
max_votes = df['votes'].max()
restaurant_with_max_votes = df.loc[df['votes'] == max_votes, 'name']
print("Restaurant with max votes:")
print(restaurant_with_max_votes)


# Online availability
sns.countplot(x=df['online_order'])


# Restaurant Rating
plt.figure(figsize=(10, 5))
plt.hist(df['rate'], bins=[2.25, 2.5, 2.75,3, 3.25, 3.5, 3.75, 4, 4.25, 4.5, 4.75, 5])
plt.title("Restaurant Rating")






# Approximate Cost for Couples
per_of_person =((df['approx_cost(for two people)']
                .value_counts().head(3).sum()/
                 df['approx_cost(for two people)']
                .value_counts().sum())*100)
sns.countplot(x=df['approx_cost(for two people)'])
print(f"{per_of_person:.2f}% of couples prefer restaurants with an cost range of 150-300 rupees")


plt.figure(figsize=(4, 4))
sns.boxplot(x= 'online_order', y='rate', data= df)





# Order Mode Preferences by Restaurant Type
pivot_table = df.pivot_table(index='listed_in(type)', columns='online_order', aggfunc='size', fill_value=0)
plt.figure(figsize=(4, 4))
sns.heatmap(pivot_table, annot=True, cmap='YlGnBu', fmt='d')
plt.title('Heatmap')
plt.xlabel('Online Order')
plt.ylabel('Listed In (Type)')
plt.show()



